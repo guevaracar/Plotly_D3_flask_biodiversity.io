{
 "cells": [
  {
   "cell_type": "markdown",
   "metadata": {},
   "source": [
    "### Import Dependencies"
   ]
  },
  {
   "cell_type": "code",
   "execution_count": 1,
   "metadata": {
    "collapsed": true
   },
   "outputs": [],
   "source": [
    "import numpy as numpy\n",
    "import pandas as pd\n",
    "import os\n",
    "from sqlalchemy.ext.automap import automap_base\n",
    "from sqlalchemy.orm import Session\n",
    "from sqlalchemy import create_engine, func, inspect\n",
    "\n",
    "from flask import (\n",
    "    Flask,\n",
    "    render_template,\n",
    "    jsonify,\n",
    "    request, \n",
    "    redirect)"
   ]
  },
  {
   "cell_type": "code",
   "execution_count": 2,
   "metadata": {
    "collapsed": true
   },
   "outputs": [],
   "source": [
    "#################################################\n",
    "# Database Setup\n",
    "#################################################\n",
    "engine = create_engine(\"sqlite:///DataSets/belly_button_biodiversity.sqlite\")\n",
    "\n",
    "# reflect an existing database into a new model\n",
    "Base = automap_base()\n",
    "# reflect the tables\n",
    "Base.prepare(engine, reflect=True)\n",
    "\n",
    "# Save references to the table\n",
    "OTU = Base.classes.otu\n",
    "Samples = Base.classes.samples\n",
    "MD = Base.classes.samples_metadata\n",
    "\n",
    "# Create our session (link) from Python to the DB\n",
    "session = Session(engine)"
   ]
  },
  {
   "cell_type": "code",
   "execution_count": 3,
   "metadata": {},
   "outputs": [
    {
     "data": {
      "text/plain": [
       "['otu', 'samples', 'samples_metadata']"
      ]
     },
     "execution_count": 3,
     "metadata": {},
     "output_type": "execute_result"
    }
   ],
   "source": [
    "inspector = inspect(engine)\n",
    "inspector.get_table_names()"
   ]
  },
  {
   "cell_type": "code",
   "execution_count": 4,
   "metadata": {},
   "outputs": [
    {
     "name": "stdout",
     "output_type": "stream",
     "text": [
      "otu_id INTEGER\n",
      "lowest_taxonomic_unit_found TEXT\n"
     ]
    }
   ],
   "source": [
    "columns = inspector.get_columns('otu')\n",
    "for c in columns:\n",
    "    print(c['name'], c['type'])"
   ]
  },
  {
   "cell_type": "code",
   "execution_count": 5,
   "metadata": {},
   "outputs": [
    {
     "name": "stdout",
     "output_type": "stream",
     "text": [
      "['otu_id', 'BB_940', 'BB_941', 'BB_943', 'BB_944', 'BB_945', 'BB_946', 'BB_947', 'BB_948', 'BB_949', 'BB_950', 'BB_952', 'BB_953', 'BB_954', 'BB_955', 'BB_956', 'BB_958', 'BB_959', 'BB_960', 'BB_961', 'BB_962', 'BB_963', 'BB_964', 'BB_966', 'BB_967', 'BB_968', 'BB_969', 'BB_970', 'BB_971', 'BB_972', 'BB_973', 'BB_974', 'BB_975', 'BB_978', 'BB_1233', 'BB_1234', 'BB_1235', 'BB_1236', 'BB_1237', 'BB_1238', 'BB_1242', 'BB_1243', 'BB_1246', 'BB_1253', 'BB_1254', 'BB_1258', 'BB_1259', 'BB_1260', 'BB_1264', 'BB_1265', 'BB_1273', 'BB_1275', 'BB_1276', 'BB_1277', 'BB_1278', 'BB_1279', 'BB_1280', 'BB_1281', 'BB_1282', 'BB_1283', 'BB_1284', 'BB_1285', 'BB_1286', 'BB_1287', 'BB_1288', 'BB_1289', 'BB_1290', 'BB_1291', 'BB_1292', 'BB_1293', 'BB_1294', 'BB_1295', 'BB_1296', 'BB_1297', 'BB_1298', 'BB_1308', 'BB_1309', 'BB_1310', 'BB_1374', 'BB_1415', 'BB_1439', 'BB_1441', 'BB_1443', 'BB_1486', 'BB_1487', 'BB_1489', 'BB_1490', 'BB_1491', 'BB_1494', 'BB_1495', 'BB_1497', 'BB_1499', 'BB_1500', 'BB_1501', 'BB_1502', 'BB_1503', 'BB_1504', 'BB_1505', 'BB_1506', 'BB_1507', 'BB_1508', 'BB_1510', 'BB_1511', 'BB_1512', 'BB_1513', 'BB_1514', 'BB_1515', 'BB_1516', 'BB_1517', 'BB_1518', 'BB_1519', 'BB_1521', 'BB_1524', 'BB_1526', 'BB_1527', 'BB_1530', 'BB_1531', 'BB_1532', 'BB_1533', 'BB_1534', 'BB_1535', 'BB_1536', 'BB_1537', 'BB_1539', 'BB_1540', 'BB_1541', 'BB_1542', 'BB_1543', 'BB_1544', 'BB_1545', 'BB_1546', 'BB_1547', 'BB_1548', 'BB_1549', 'BB_1550', 'BB_1551', 'BB_1552', 'BB_1553', 'BB_1554', 'BB_1555', 'BB_1556', 'BB_1557', 'BB_1558', 'BB_1561', 'BB_1562', 'BB_1563', 'BB_1564', 'BB_1572', 'BB_1573', 'BB_1574', 'BB_1576', 'BB_1577', 'BB_1581', 'BB_1601']\n"
     ]
    }
   ],
   "source": [
    "columns = inspector.get_columns('samples')\n",
    "listy = []\n",
    "for c in columns:\n",
    "    listy.append(c['name'])\n",
    "    \n",
    "print(listy)"
   ]
  },
  {
   "cell_type": "code",
   "execution_count": 6,
   "metadata": {},
   "outputs": [
    {
     "name": "stdout",
     "output_type": "stream",
     "text": [
      "SAMPLEID INTEGER\n",
      "EVENT TEXT\n",
      "ETHNICITY TEXT\n",
      "GENDER TEXT\n",
      "AGE INTEGER\n",
      "WFREQ INTEGER\n",
      "BBTYPE TEXT\n",
      "LOCATION TEXT\n",
      "COUNTRY012 TEXT\n",
      "ZIP012 INTEGER\n",
      "COUNTRY1319 TEXT\n",
      "ZIP1319 INTEGER\n",
      "DOG TEXT\n",
      "CAT TEXT\n",
      "IMPSURFACE013 INTEGER\n",
      "NPP013 FLOAT\n",
      "MMAXTEMP013 FLOAT\n",
      "PFC013 FLOAT\n",
      "IMPSURFACE1319 INTEGER\n",
      "NPP1319 FLOAT\n",
      "MMAXTEMP1319 FLOAT\n",
      "PFC1319 FLOAT\n"
     ]
    }
   ],
   "source": [
    "columns = inspector.get_columns('samples_metadata')\n",
    "for c in columns:\n",
    "    print(c['name'], c['type'])"
   ]
  },
  {
   "cell_type": "code",
   "execution_count": 7,
   "metadata": {
    "collapsed": true
   },
   "outputs": [],
   "source": [
    "# session.query(OTU.lowest_taxonomic_unit_found).all()"
   ]
  },
  {
   "cell_type": "code",
   "execution_count": null,
   "metadata": {
    "collapsed": true
   },
   "outputs": [],
   "source": [
    "# samplenames = sample_names[1:]\n",
    "# print(samplenames)"
   ]
  },
  {
   "cell_type": "code",
   "execution_count": 39,
   "metadata": {},
   "outputs": [
    {
     "name": "stdout",
     "output_type": "stream",
     "text": [
      "{'AGE': 24, 'BBTY': 'I', 'ETHINICITY': 'Caucasian', 'GENDER': 'F', 'LOCATION': 'Beaufort/NC', 'SAMPLEID': 'BB_940'}\n"
     ]
    }
   ],
   "source": [
    "def metadata(metainput):\n",
    "    for AGE, BBTYPE, ETHNICITY, GENDER, LOCATION, SAMPLEID in \\\n",
    "    session.query(MD.AGE, MD.BBTYPE, MD.ETHNICITY, MD.GENDER, MD.LOCATION, MD.SAMPLEID).\\\n",
    "       filter_by(SAMPLEID = metainput[3:]):\n",
    "\n",
    "        metadict = {'AGE': AGE,\n",
    "                   \"BBTY\": BBTYPE,\n",
    "                   'ETHINICITY': ETHNICITY,\n",
    "                   'GENDER': GENDER,\n",
    "                   'LOCATION': LOCATION,\n",
    "                   'SAMPLEID': f'BB_{str(SAMPLEID)}'\n",
    "                   }\n",
    "    \n",
    "        return metadict\n",
    "print(metadata('BB_940'))"
   ]
  },
  {
   "cell_type": "code",
   "execution_count": 102,
   "metadata": {},
   "outputs": [
    {
     "data": {
      "text/plain": [
       "154"
      ]
     },
     "execution_count": 102,
     "metadata": {},
     "output_type": "execute_result"
    }
   ],
   "source": [
    "columns = inspector.get_columns('samples')\n",
    "len(columns)\n",
    "# for c in columns:\n",
    "#     print(c['name'], c['type'])\n"
   ]
  },
  {
   "cell_type": "code",
   "execution_count": null,
   "metadata": {
    "collapsed": true
   },
   "outputs": [],
   "source": [
    "def wash_frequency(sample):\n",
    "\n",
    "    for SAMPLEID, WFREQ in session.query(MD.SAMPLEID, MD.WFREQ).\\\n",
    "        filter_by(SAMPLEID = sample[3:]):\n",
    "        return (WFREQ)\n",
    "\n",
    "print(wash_frequency('BB_941'))"
   ]
  },
  {
   "cell_type": "code",
   "execution_count": 66,
   "metadata": {},
   "outputs": [
    {
     "data": {
      "text/plain": [
       "[{'otu_ids': [2722,\n",
       "   944,\n",
       "   2419,\n",
       "   2539,\n",
       "   3450,\n",
       "   1795,\n",
       "   2389,\n",
       "   1314,\n",
       "   922,\n",
       "   1167,\n",
       "   963,\n",
       "   2859,\n",
       "   2964,\n",
       "   2308,\n",
       "   2651,\n",
       "   482,\n",
       "   874,\n",
       "   1870,\n",
       "   2908,\n",
       "   41,\n",
       "   2264,\n",
       "   352,\n",
       "   728,\n",
       "   1188,\n",
       "   1926,\n",
       "   1959,\n",
       "   2782,\n",
       "   189,\n",
       "   261,\n",
       "   296,\n",
       "   555,\n",
       "   710,\n",
       "   854,\n",
       "   939,\n",
       "   1200,\n",
       "   1310,\n",
       "   1929,\n",
       "   1977,\n",
       "   2461,\n",
       "   2500,\n",
       "   2688,\n",
       "   2704,\n",
       "   2890,\n",
       "   3312,\n",
       "   301,\n",
       "   307,\n",
       "   308,\n",
       "   314,\n",
       "   562,\n",
       "   641,\n",
       "   730,\n",
       "   801,\n",
       "   820,\n",
       "   830,\n",
       "   919,\n",
       "   920,\n",
       "   930,\n",
       "   1186,\n",
       "   1199,\n",
       "   1202,\n",
       "   1213,\n",
       "   1600,\n",
       "   1672,\n",
       "   1760,\n",
       "   1824,\n",
       "   1942,\n",
       "   2077,\n",
       "   2091,\n",
       "   2275,\n",
       "   2318,\n",
       "   2340,\n",
       "   2399,\n",
       "   2404,\n",
       "   2438,\n",
       "   2551,\n",
       "   2581,\n",
       "   2632,\n",
       "   2650,\n",
       "   2660,\n",
       "   2666,\n",
       "   2672,\n",
       "   2676,\n",
       "   2682,\n",
       "   2687,\n",
       "   2764,\n",
       "   2850,\n",
       "   2927,\n",
       "   3036,\n",
       "   3120,\n",
       "   3134,\n",
       "   3389,\n",
       "   3446,\n",
       "   3458,\n",
       "   3461],\n",
       "  'sample_values': [194,\n",
       "   178,\n",
       "   162,\n",
       "   92,\n",
       "   84,\n",
       "   40,\n",
       "   37,\n",
       "   28,\n",
       "   27,\n",
       "   24,\n",
       "   21,\n",
       "   21,\n",
       "   13,\n",
       "   10,\n",
       "   10,\n",
       "   8,\n",
       "   8,\n",
       "   5,\n",
       "   5,\n",
       "   4,\n",
       "   4,\n",
       "   3,\n",
       "   3,\n",
       "   3,\n",
       "   3,\n",
       "   3,\n",
       "   3,\n",
       "   2,\n",
       "   2,\n",
       "   2,\n",
       "   2,\n",
       "   2,\n",
       "   2,\n",
       "   2,\n",
       "   2,\n",
       "   2,\n",
       "   2,\n",
       "   2,\n",
       "   2,\n",
       "   2,\n",
       "   2,\n",
       "   2,\n",
       "   2,\n",
       "   2,\n",
       "   1,\n",
       "   1,\n",
       "   1,\n",
       "   1,\n",
       "   1,\n",
       "   1,\n",
       "   1,\n",
       "   1,\n",
       "   1,\n",
       "   1,\n",
       "   1,\n",
       "   1,\n",
       "   1,\n",
       "   1,\n",
       "   1,\n",
       "   1,\n",
       "   1,\n",
       "   1,\n",
       "   1,\n",
       "   1,\n",
       "   1,\n",
       "   1,\n",
       "   1,\n",
       "   1,\n",
       "   1,\n",
       "   1,\n",
       "   1,\n",
       "   1,\n",
       "   1,\n",
       "   1,\n",
       "   1,\n",
       "   1,\n",
       "   1,\n",
       "   1,\n",
       "   1,\n",
       "   1,\n",
       "   1,\n",
       "   1,\n",
       "   1,\n",
       "   1,\n",
       "   1,\n",
       "   1,\n",
       "   1,\n",
       "   1,\n",
       "   1,\n",
       "   1,\n",
       "   1,\n",
       "   1,\n",
       "   1,\n",
       "   1]}]"
      ]
     },
     "execution_count": 66,
     "metadata": {},
     "output_type": "execute_result"
    }
   ],
   "source": [
    "def samples(sample):\n",
    "    results = session.query(Samples.otu_id, getattr(Samples, sample)).\\\n",
    "        filter(getattr(Samples, sample) >= 1 ).order_by(getattr(Samples, sample).desc()).all()\n",
    "    samples_data = [{\n",
    "        \"otu_ids\": [result[0] for result in results],\n",
    "        \"sample_values\": [result[1] for result in results]\n",
    "        }]\n",
    "    return samples_data\n",
    "samples('BB_941')"
   ]
  },
  {
   "cell_type": "code",
   "execution_count": 57,
   "metadata": {
    "scrolled": true
   },
   "outputs": [
    {
     "name": "stdout",
     "output_type": "stream",
     "text": [
      "[{'otu_ids': [2722, 944, 2419, 2539, 3450, 1795, 2389, 1314, 922, 1167, 963, 2859, 2964, 2308, 2651, 482, 874, 1870, 2908, 41, 2264, 352, 728, 1188, 1926, 1959, 2782, 189, 261, 296, 555, 710, 854, 939, 1200, 1310, 1929, 1977, 2461, 2500, 2688, 2704, 2890, 3312, 301, 307, 308, 314, 562, 641, 730, 801, 820, 830, 919, 920, 930, 1186, 1199, 1202, 1213, 1600, 1672, 1760, 1824, 1942, 2077, 2091, 2275, 2318, 2340, 2399, 2404, 2438, 2551, 2581, 2632, 2650, 2660, 2666, 2672, 2676, 2682, 2687, 2764, 2850, 2927, 3036, 3120, 3134, 3389, 3446, 3458, 3461], 'sample_values': [194, 178, 162, 92, 84, 40, 37, 28, 27, 24, 21, 21, 13, 10, 10, 8, 8, 5, 5, 4, 4, 3, 3, 3, 3, 3, 3, 2, 2, 2, 2, 2, 2, 2, 2, 2, 2, 2, 2, 2, 2, 2, 2, 2, 1, 1, 1, 1, 1, 1, 1, 1, 1, 1, 1, 1, 1, 1, 1, 1, 1, 1, 1, 1, 1, 1, 1, 1, 1, 1, 1, 1, 1, 1, 1, 1, 1, 1, 1, 1, 1, 1, 1, 1, 1, 1, 1, 1, 1, 1, 1, 1, 1, 1]}]\n"
     ]
    }
   ],
   "source": [
    "def samples(test):\n",
    "#     columns = len(inspector.get_columns('samples'))\n",
    "# #     listy = []\n",
    "#     for i in columns:\n",
    "#         listy.append(columns[i]['name'])\n",
    "#         if columns[i] != test:\n",
    "#             i = i+1\n",
    "#         else:\n",
    "\n",
    "            results = session.query(Samples.otu_id, getattr(Samples, test)).\\\n",
    "                filter(getattr(Samples, test) >= 1 ).order_by(getattr(Samples, test).desc()).all()\n",
    "            \n",
    "#             results = session.query(Samples.otu_id, Samples.test).\\\n",
    "#                 filter(Samples.test >= 1 ).order_by(Samples.test.desc()).limit(10)\n",
    "            samplessample = [{\n",
    "                \"otu_ids\": [result[0] for result in results],\n",
    "                \"sample_values\": [result[1] for result in results]\n",
    "                }]\n",
    "            return samplessample\n",
    "print(samples('BB_941'))"
   ]
  }
 ],
 "metadata": {
  "kernelspec": {
   "display_name": "Python 3",
   "language": "python",
   "name": "python3"
  },
  "language_info": {
   "codemirror_mode": {
    "name": "ipython",
    "version": 3
   },
   "file_extension": ".py",
   "mimetype": "text/x-python",
   "name": "python",
   "nbconvert_exporter": "python",
   "pygments_lexer": "ipython3",
   "version": "3.6.3"
  }
 },
 "nbformat": 4,
 "nbformat_minor": 2
}
